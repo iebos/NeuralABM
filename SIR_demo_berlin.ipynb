{
 "cells": [
  {
   "cell_type": "markdown",
   "source": [
    "# SIR calibration demo\n",
    "\n",
    "## Learning parameters from a single dataset\n",
    "\n",
    "In this Jupyter notebook, we will demonstrate the basics of the methodology of calibrating a single dataset without adding too much computational complexity. The idea is just to set up a simple ODE model, calibrate its parameters, and plot the results, illustrating the basic idea of the methodology. With this approach, you can already learn system parameters from a single observation time series. However, the methodology can also be used to learn parameters from multiple observations, or to train a neural network to learn different parameters from different observations. These will be demonstrated in future notebooks and models as I expand the methodology.\n",
    "\n",
    "Let's get started by first importing the required packages -- make sure they are installed on your system:"
   ],
   "metadata": {
    "collapsed": false
   },
   "id": "47ad5c0e8e736a56"
  },
  {
   "cell_type": "code",
   "outputs": [],
   "source": [
    "import numpy as np\n",
    "import tqdm\n",
    "import torch\n",
    "import xarray as xr\n",
    "import matplotlib.pyplot as plt\n",
    "import pandas as pd\n",
    "%matplotlib inline"
   ],
   "metadata": {
    "collapsed": false,
    "ExecuteTime": {
     "end_time": "2024-07-04T13:51:21.927955Z",
     "start_time": "2024-07-04T13:51:20.252492Z"
    }
   },
   "id": "9d30f79bb3564c02",
   "execution_count": 1
  },
  {
   "cell_type": "markdown",
   "source": [
    "Next we import neural network generation function from `include.neural_network`:"
   ],
   "metadata": {
    "collapsed": false
   },
   "id": "f60b047fbfd64cb"
  },
  {
   "cell_type": "code",
   "outputs": [],
   "source": [
    "from include import neural_net"
   ],
   "metadata": {
    "collapsed": false,
    "ExecuteTime": {
     "end_time": "2024-07-04T13:51:22.105224Z",
     "start_time": "2024-07-04T13:51:21.929525Z"
    }
   },
   "id": "35dba09b22d7eb9",
   "execution_count": 2
  },
  {
   "cell_type": "markdown",
   "source": [
    "Ok, let's first generate some synthetic SIR data. The originaal function (as with all models) is located in the `<model_name>/DataGeneration.py` folder. You can adapt these to your own needs, or come up your own structure. For our purposes, lets rewrite the function and reuse it later on for training."
   ],
   "metadata": {
    "collapsed": false
   },
   "id": "c79111742bc3bb38"
  },
  {
   "cell_type": "code",
   "outputs": [],
   "source": [
    "def generate_SIR_data(*,\n",
    "        cfg: dict,\n",
    "        num_steps: int,\n",
    "        init_state: torch.tensor,\n",
    "        dt: float = 1\n",
    "):\n",
    "    \"\"\" Forward Euler solver for the SIR model.\"\"\"\n",
    "    data = [init_state]\n",
    "    \n",
    "    for i in range(num_steps):        \n",
    "        \n",
    "        # Recovery rate, which is truncated in time. Since the Heaviside function is not differentiable, \n",
    "        # we use a very steep sigmoid, which looks almost the same\n",
    "        tau = 1 / cfg[\"t_infectious\"] * torch.sigmoid(1000 * (i / cfg[\"t_infectious\"] - 1))\n",
    "        \n",
    "        # Solve the ODE using a forward Euler\n",
    "        data.append(\n",
    "           torch.clip(data[-1] + torch.stack(\n",
    "                [\n",
    "                    (-cfg[\"p_infect\"] * data[-1][0] + cfg[\"sigma\"] * torch.normal(0.0, 1.0, size=(1, )))\n",
    "                    * data[-1][1],\n",
    "                    (cfg[\"p_infect\"] * data[-1][0] - tau + cfg[\"sigma\"] * torch.normal(0.0, 1.0, size=(1, )))\n",
    "                    * data[-1][1],\n",
    "                    tau * data[-1][1],\n",
    "                ]\n",
    "            ) * dt, 0, 1)\n",
    "        )\n",
    "    \n",
    "    # Return the time series\n",
    "    return torch.stack(data)"
   ],
   "metadata": {
    "collapsed": false,
    "ExecuteTime": {
     "end_time": "2024-07-04T13:51:22.112529Z",
     "start_time": "2024-07-04T13:51:22.106141Z"
    }
   },
   "id": "e5d1e9de1ad2e8c",
   "execution_count": 3
  },
  {
   "cell_type": "markdown",
   "source": [
    "Now let's generate some training data. Let's assume that 1% of the population are infected at time `t=0` and use this as the initial data:"
   ],
   "metadata": {
    "collapsed": false
   },
   "id": "6dfe4af41e1cdc5c"
  },
  {
   "cell_type": "code",
   "outputs": [
    {
     "data": {
      "text/plain": "tensor([[1.0000e+00],\n        [7.2709e-07],\n        [0.0000e+00]])"
     },
     "execution_count": 20,
     "metadata": {},
     "output_type": "execute_result"
    }
   ],
   "source": [
    "# Generate an initial state and run the model:\n",
    "SIR_data = pd.read_csv(\"/Users/inanb/Documents/ZIB/ode_berlin/berlin_svn_rki.csv\")\n",
    "init_state = torch.tensor([SIR_data.avg_s[0], SIR_data.avg_i[0], SIR_data.cumulative_r[0]], dtype=torch.float).reshape(-1, 1)\n",
    "init_state"
   ],
   "metadata": {
    "collapsed": false,
    "ExecuteTime": {
     "end_time": "2024-07-04T13:59:00.034591Z",
     "start_time": "2024-07-04T13:59:00.026748Z"
    }
   },
   "id": "6aeb416469d560ea",
   "execution_count": 20
  },
  {
   "cell_type": "code",
   "outputs": [],
   "source": [
    "SIR_data = SIR_data[[\"avg_s\",\"avg_i\", \"cumulative_r\"]]\n"
   ],
   "metadata": {
    "collapsed": false,
    "ExecuteTime": {
     "end_time": "2024-07-04T13:59:02.793606Z",
     "start_time": "2024-07-04T13:59:02.776621Z"
    }
   },
   "id": "ea0c12d8dc99fc64",
   "execution_count": 21
  },
  {
   "cell_type": "code",
   "outputs": [
    {
     "name": "stdout",
     "output_type": "stream",
     "text": [
      "tensor([[[1.0000e+00],\n",
      "         [7.2709e-07],\n",
      "         [0.0000e+00]],\n",
      "\n",
      "        [[1.0000e+00],\n",
      "         [1.1105e-06],\n",
      "         [0.0000e+00]],\n",
      "\n",
      "        [[1.0000e+00],\n",
      "         [1.1457e-06],\n",
      "         [0.0000e+00]],\n",
      "\n",
      "        ...,\n",
      "\n",
      "        [[9.5312e-01],\n",
      "         [4.7635e-05],\n",
      "         [4.6189e-02]],\n",
      "\n",
      "        [[9.5308e-01],\n",
      "         [4.1510e-05],\n",
      "         [4.6269e-02]],\n",
      "\n",
      "        [[9.5305e-01],\n",
      "         [3.4107e-05],\n",
      "         [4.6346e-02]]])\n",
      "torch.Size([455, 3, 1])\n"
     ]
    }
   ],
   "source": [
    "# Convert DataFrame to PyTorch Tensor\n",
    "# Ensure that data is in float format for any computations that might be needed\n",
    "SIR_data = torch.tensor(SIR_data.values, dtype=torch.float)\n",
    "\n",
    "# Reshape the tensor to (num_steps, 3, 1)\n",
    "# 'num_steps' is the number of rows in the DataFrame\n",
    "SIR_data = SIR_data.reshape(SIR_data.shape[0], 3, 1)\n",
    "\n",
    "# Display the tensor and its shape\n",
    "print(SIR_data)\n",
    "print(SIR_data.shape)"
   ],
   "metadata": {
    "collapsed": false,
    "ExecuteTime": {
     "end_time": "2024-07-04T14:06:44.579883Z",
     "start_time": "2024-07-04T14:06:44.574629Z"
    }
   },
   "id": "bcf6a4e1ba9026a9",
   "execution_count": 37
  },
  {
   "cell_type": "markdown",
   "source": [
    "Let's quickly plot the training to see what it looks like. Converting to an xarray dataset makes this more convenient, and also illustrates how the `utopya` DAG framework works -- but this is optional, you can of course just plot using matplotlib directly if you prefer:"
   ],
   "metadata": {
    "collapsed": false
   },
   "id": "a9bed92180558454"
  },
  {
   "cell_type": "code",
   "outputs": [
    {
     "data": {
      "text/plain": "<Figure size 640x480 with 1 Axes>",
      "image/png": "[encoded data removed]"
     },
     "metadata": {},
     "output_type": "display_data"
    }
   ],
   "source": [
    "SIR_data_xr = xr.DataArray(data=SIR_data.squeeze(), \n",
    "                           dims=[\"time\", \"kind\"], \n",
    "                           coords={\"time\": np.arange(SIR_data.shape[0]), \"kind\": [\"S\", \"I\", \"R\"]})\n",
    "SIR_data_xr.plot.line(hue=\"kind\");"
   ],
   "metadata": {
    "collapsed": false,
    "ExecuteTime": {
     "end_time": "2024-07-04T14:06:49.979017Z",
     "start_time": "2024-07-04T14:06:49.841493Z"
    }
   },
   "id": "f690a540a217d5e",
   "execution_count": 38
  },
  {
   "cell_type": "markdown",
   "source": [
    "Okay -- looks good. Now let's train a neural network to calibrate just this one single dataset. If you have many different datasets with many different parameters, the procedure would be analogous but with a larger training set. \n",
    "\n",
    "We want to learn two parameters: p_infect and t_infectious. First, let's initialise a neural network to take an (S, I, R) vector as input and output two predicted parameters. We'll use a small net with 3 layers, 20 neurons per layer, and sigmoid activation functions on all layers except the last, where we use the absolute value:"
   ],
   "metadata": {
    "collapsed": false
   },
   "id": "71d382f44271bdbf"
  },
  {
   "cell_type": "code",
   "outputs": [
    {
     "data": {
      "text/plain": "3"
     },
     "execution_count": 39,
     "metadata": {},
     "output_type": "execute_result"
    }
   ],
   "source": [
    "SIR_data.shape[1]"
   ],
   "metadata": {
    "collapsed": false,
    "ExecuteTime": {
     "end_time": "2024-07-04T14:06:56.356697Z",
     "start_time": "2024-07-04T14:06:56.353070Z"
    }
   },
   "id": "281719716e2de7a7",
   "execution_count": 39
  },
  {
   "cell_type": "code",
   "outputs": [],
   "source": [
    "NN = neural_net.NeuralNet(\n",
    "    input_size = SIR_data.shape[1], # We have S, I, R compartments\n",
    "    output_size = 2, # We want to learn 2 parameters\n",
    "    num_layers=3,\n",
    "    nodes_per_layer={\"default\": 20}, \n",
    "    activation_funcs={\"default\": \"sigmoid\", \"layer_specific\": {-1: \"abs\"}}, \n",
    "    biases={\"default\": None}\n",
    ")\n",
    "# All other parameters (optimizer, learning rate etc.) are the default -- see include.neural_net.NeuralNet for details\n",
    "\n",
    "# Store the loss and parameters in an array\n",
    "loss_ts, parameters_ts = [], []"
   ],
   "metadata": {
    "collapsed": false,
    "ExecuteTime": {
     "end_time": "2024-07-04T14:06:57.002520Z",
     "start_time": "2024-07-04T14:06:56.997332Z"
    }
   },
   "id": "180c48f7a32a9a59",
   "execution_count": 40
  },
  {
   "cell_type": "markdown",
   "source": [
    "All right -- now let's train, and track the loss and parameters as the neural network trains. We need to decide how often to make a gradient descent step, and with such long time series it's typically best to use a batch size of at least half the length of the time series, so that the neural network gets to see more of the structure of the data before optimising its parameters. The time series is 100 steps long, so let's just set the batch size to 100, for simplicity."
   ],
   "metadata": {
    "collapsed": false
   },
   "id": "a10108c0d657bbde"
  },
  {
   "cell_type": "code",
   "outputs": [
    {
     "data": {
      "text/plain": "455"
     },
     "execution_count": 41,
     "metadata": {},
     "output_type": "execute_result"
    }
   ],
   "source": [
    "SIR_data.shape[0]"
   ],
   "metadata": {
    "collapsed": false,
    "ExecuteTime": {
     "end_time": "2024-07-04T14:06:58.387659Z",
     "start_time": "2024-07-04T14:06:58.383934Z"
    }
   },
   "id": "1776292351b51fc7",
   "execution_count": 41
  },
  {
   "cell_type": "code",
   "outputs": [
    {
     "name": "stdout",
     "output_type": "stream",
     "text": [
      "[  0 454]\n"
     ]
    }
   ],
   "source": [
    "# Generate some batch slices:\n",
    "batch_size = 454\n",
    "batches = np.arange(0, SIR_data.shape[0], batch_size)\n",
    "print(batches)"
   ],
   "metadata": {
    "collapsed": false,
    "ExecuteTime": {
     "end_time": "2024-07-04T14:10:40.905627Z",
     "start_time": "2024-07-04T14:10:40.901833Z"
    }
   },
   "id": "f5c3460a43eb1af0",
   "execution_count": 48
  },
  {
   "cell_type": "markdown",
   "source": [
    "The following training routine should run in about 60 seconds on a reasonably fast computer:"
   ],
   "metadata": {
    "collapsed": false
   },
   "id": "5aa27030c811d5f9"
  },
  {
   "cell_type": "code",
   "outputs": [
    {
     "name": "stderr",
     "output_type": "stream",
     "text": [
      "Current loss: nan: 100%|██████████| 300/300 [00:55<00:00,  5.44it/s]\n"
     ]
    }
   ],
   "source": [
    "num_epochs = 300\n",
    "\n",
    "for _ in (pbar:= tqdm.tqdm(range(num_epochs))):\n",
    "            \n",
    "    # Now iterate over the time series in batches and perform a gradient descent step after every batch\n",
    "    for idx in range(len(batches)-1):\n",
    "        \n",
    "        # Initial frame\n",
    "        init_state = SIR_data[idx]\n",
    "        \n",
    "        # Make a prediction from the initial frame\n",
    "        predicted_parameters = NN(init_state.squeeze())\n",
    "        \n",
    "        # Generate a predicted time series with zero noise\n",
    "        predicted_time_series = generate_SIR_data(\n",
    "            cfg={\n",
    "                \"p_infect\": predicted_parameters[0],\n",
    "                \"t_infectious\": predicted_parameters[1],\n",
    "                \"sigma\": torch.tensor(0.0)\n",
    "            }, \n",
    "            num_steps = batch_size - 1,\n",
    "            init_state = init_state, \n",
    "            dt=0.1\n",
    "        )\n",
    "        \n",
    "        # Calculate the loss\n",
    "        loss = torch.nn.functional.mse_loss(\n",
    "            SIR_data[batches[idx]+1:batches[idx+1]], predicted_time_series[1:]\n",
    "        )\n",
    "        \n",
    "        # Perform a gradient descent step\n",
    "        loss.backward()\n",
    "        NN.optimizer.step()\n",
    "        NN.optimizer.zero_grad()\n",
    "        \n",
    "        # Store prediction and loss\n",
    "        loss_ts.append(loss.clone().detach())\n",
    "        parameters_ts.append(predicted_parameters.clone().detach())\n",
    "    \n",
    "        pbar.set_description(f\"Current loss: {loss}\")"
   ],
   "metadata": {
    "collapsed": false,
    "ExecuteTime": {
     "end_time": "2024-07-04T14:09:18.672505Z",
     "start_time": "2024-07-04T14:08:23.522038Z"
    }
   },
   "id": "7d87781333af355b",
   "execution_count": 45
  },
  {
   "cell_type": "markdown",
   "source": [
    "Let's plot the loss to see how it developed:"
   ],
   "metadata": {
    "collapsed": false
   },
   "id": "4e007b018f49c4f0"
  },
  {
   "cell_type": "code",
   "outputs": [
    {
     "data": {
      "text/plain": "<Figure size 640x480 with 1 Axes>",
      "image/png": "[encoded data removed]"
     },
     "metadata": {},
     "output_type": "display_data"
    }
   ],
   "source": [
    "fig, ax = plt.subplots()\n",
    "ax.plot(np.arange(len(loss_ts)), loss_ts)\n",
    "ax.set_yscale('log')"
   ],
   "metadata": {
    "collapsed": false,
    "ExecuteTime": {
     "end_time": "2024-07-04T14:09:23.477323Z",
     "start_time": "2024-07-04T14:09:23.305526Z"
    }
   },
   "id": "1a89821a1deeb971",
   "execution_count": 46
  },
  {
   "cell_type": "markdown",
   "source": [
    "Looks reasonable -- let's take a look at the evolution of the parameters, again using xarray for simplicity:"
   ],
   "metadata": {
    "collapsed": false
   },
   "id": "1869d1be20635886"
  },
  {
   "cell_type": "code",
   "outputs": [
    {
     "data": {
      "text/plain": "<Figure size 640x480 with 1 Axes>",
      "image/png": "[encoded data removed]"
     },
     "metadata": {},
     "output_type": "display_data"
    }
   ],
   "source": [
    "parameters_ts_xr = xr.DataArray(\n",
    "    data=torch.stack(parameters_ts),\n",
    "    dims=[\"batch\", \"parameter\"],\n",
    "    coords={\"batch\": np.arange(len(parameters_ts)), \"parameter\": [\"p_infect\", \"t_infectious\"]}\n",
    ")\n",
    "\n",
    "parameters_ts_xr.plot.line(hue=\"parameter\");"
   ],
   "metadata": {
    "collapsed": false,
    "ExecuteTime": {
     "end_time": "2024-07-04T14:09:57.838554Z",
     "start_time": "2024-07-04T14:09:57.711867Z"
    }
   },
   "id": "66c61e24d8aabb2b",
   "execution_count": 47
  },
  {
   "cell_type": "markdown",
   "source": [
    "We can see that model is moving towards the true values, but very slowly. The problem is that the two parameters to be learned are two orders of magnitude apart, and this means that the gradients are skewed, slowing the training process immensely. We can speed this up by adding scaling factors to the outputs:"
   ],
   "metadata": {
    "collapsed": false
   },
   "id": "f289c51357470ed5"
  },
  {
   "cell_type": "code",
   "outputs": [],
   "source": [
    "scaling = torch.tensor([1, 10])"
   ],
   "metadata": {
    "collapsed": false,
    "ExecuteTime": {
     "end_time": "2024-04-12T20:22:03.740006Z",
     "start_time": "2024-04-12T20:22:03.727098Z"
    }
   },
   "id": "c771bfdcba73901f",
   "execution_count": 11
  },
  {
   "cell_type": "markdown",
   "source": [
    "Let's reset everything and run again:"
   ],
   "metadata": {
    "collapsed": false
   },
   "id": "1ddbb7af47dbcd97"
  },
  {
   "cell_type": "code",
   "outputs": [
    {
     "name": "stderr",
     "output_type": "stream",
     "text": [
      "Current loss: 0.0035710036754608154: 100%|██████████| 300/300 [00:52<00:00,  5.75it/s]\n"
     ]
    }
   ],
   "source": [
    "NN = neural_net.NeuralNet(\n",
    "    input_size = SIR_data.shape[1],\n",
    "    output_size = 2,\n",
    "    num_layers=3,\n",
    "    nodes_per_layer={\"default\": 20}, \n",
    "    activation_funcs={\"default\": \"sigmoid\", \"layer_specific\": {-1: \"abs\"}}, \n",
    "    biases={\"default\": None}\n",
    ")\n",
    "loss_ts, parameters_ts = [], []\n",
    "\n",
    "for _ in (pbar:= tqdm.tqdm(range(num_epochs))):\n",
    "            \n",
    "    # Now iterate over the time series in batches and perform a gradient descent step after every batch\n",
    "    for idx in range(len(batches)-1):\n",
    "        \n",
    "        # Initial frame\n",
    "        init_state = SIR_data[idx]\n",
    "        \n",
    "        # Make a prediction from the initial frame\n",
    "        predicted_parameters = scaling * NN(init_state.squeeze())\n",
    "        \n",
    "        # Generate a predicted time series with zero noise\n",
    "        predicted_time_series = generate_SIR_data(\n",
    "            cfg={\n",
    "                \"p_infect\": predicted_parameters[0],\n",
    "                \"t_infectious\": predicted_parameters[1],\n",
    "                \"sigma\": torch.tensor(0.0)\n",
    "            }, \n",
    "            num_steps = batch_size - 1,\n",
    "            init_state = init_state, \n",
    "            dt=0.1\n",
    "        )\n",
    "        \n",
    "        # Calculate the loss\n",
    "        loss = torch.nn.functional.mse_loss(\n",
    "            SIR_data[batches[idx]+1:batches[idx+1]], predicted_time_series[1:]\n",
    "        )\n",
    "        \n",
    "        # Perform a gradient descent step\n",
    "        loss.backward()\n",
    "        NN.optimizer.step()\n",
    "        NN.optimizer.zero_grad()\n",
    "        \n",
    "        # Store prediction and loss\n",
    "        loss_ts.append(loss.clone().detach())\n",
    "        parameters_ts.append(predicted_parameters.clone().detach())\n",
    "    \n",
    "        pbar.set_description(f\"Current loss: {loss}\")"
   ],
   "metadata": {
    "collapsed": false,
    "ExecuteTime": {
     "end_time": "2024-04-12T20:22:55.939015Z",
     "start_time": "2024-04-12T20:22:03.731924Z"
    }
   },
   "id": "266b692c5a5793b8",
   "execution_count": 12
  },
  {
   "cell_type": "code",
   "outputs": [
    {
     "data": {
      "text/plain": "<Figure size 640x480 with 1 Axes>",
      "image/png": "[encoded data removed]"
     },
     "metadata": {},
     "output_type": "display_data"
    }
   ],
   "source": [
    "fig, ax = plt.subplots()\n",
    "loss_ts_xr = xr.DataArray(data=loss_ts, dims=[\"batch\"], coords={\"batch\": np.arange(len(loss_ts))})\n",
    "loss_ts_xr.plot.line(ax=ax)\n",
    "ax.set_yscale('log');"
   ],
   "metadata": {
    "collapsed": false,
    "ExecuteTime": {
     "end_time": "2024-04-12T20:22:56.040438Z",
     "start_time": "2024-04-12T20:22:55.920107Z"
    }
   },
   "id": "65e08a9e69a18b4d",
   "execution_count": 13
  },
  {
   "cell_type": "code",
   "outputs": [
    {
     "data": {
      "text/plain": "<Figure size 700x300 with 2 Axes>",
      "image/png": "[encoded data removed]"
     },
     "metadata": {},
     "output_type": "display_data"
    }
   ],
   "source": [
    "parameters_ts_xr = xr.DataArray(\n",
    "    data=torch.stack(parameters_ts),\n",
    "    dims=[\"batch\", \"parameter\"],\n",
    "    coords={\"batch\": np.arange(len(parameters_ts)), \"parameter\": [\"p_infect\", \"t_infectious\"]}\n",
    ")\n",
    "parameters_ts_xr.plot.line(col=\"parameter\", sharey=False);"
   ],
   "metadata": {
    "collapsed": false,
    "ExecuteTime": {
     "end_time": "2024-04-12T20:22:56.157394Z",
     "start_time": "2024-04-12T20:22:56.016726Z"
    }
   },
   "id": "c870add1a1bec9e4",
   "execution_count": 14
  },
  {
   "cell_type": "markdown",
   "source": [
    "This looks much better!\n",
    "\n",
    "Let's plot the joint distribution of all the parameters we've estimated; we can do so using the `joint_2D_ds` function, located in `model_plots.data_ops`:"
   ],
   "metadata": {
    "collapsed": false
   },
   "id": "85c4bf1c6a97fc67"
  },
  {
   "cell_type": "code",
   "outputs": [
    {
     "data": {
      "text/plain": "<matplotlib.image.AxesImage at 0x16c6ba750>"
     },
     "execution_count": 24,
     "metadata": {},
     "output_type": "execute_result"
    },
    {
     "data": {
      "text/plain": "<Figure size 640x480 with 2 Axes>",
      "image/png": "[encoded data removed]"
     },
     "metadata": {},
     "output_type": "display_data"
    }
   ],
   "source": [
    "from model_plots.data_ops import joint_2D_ds\n",
    "joint = joint_2D_ds(parameters_ts_xr, loss_ts_xr, x=\"p_infect\", y=\"t_infectious\")\n",
    "joint.plot.imshow(x=\"p_infect\")"
   ],
   "metadata": {
    "collapsed": false,
    "ExecuteTime": {
     "end_time": "2024-04-12T20:25:56.435649Z",
     "start_time": "2024-04-12T20:25:56.331999Z"
    }
   },
   "id": "137bb9f2853f2955",
   "execution_count": 24
  },
  {
   "cell_type": "markdown",
   "source": [
    "We can see the single path that the neural network traced out on its way to the minimum at (0.2, 14). To truly get a sense of the joint distribution, we would need to train the neural network multiple times from different initialisations, ideally in parallel. All this is implemented in the utopya version of the model. We recommend you now continue to the main tutorial in the README."
   ],
   "metadata": {
    "collapsed": false
   },
   "id": "d7366770fc4193bd"
  },
  {
   "cell_type": "code",
   "outputs": [],
   "source": [],
   "metadata": {
    "collapsed": false
   },
   "id": "9918efd586fedcb6",
   "execution_count": 1
  }
 ],
 "metadata": {
  "kernelspec": {
   "name": "python3",
   "language": "python",
   "display_name": "Python 3 (ipykernel)"
  },
  "language_info": {
   "codemirror_mode": {
    "name": "ipython",
    "version": 2
   },
   "file_extension": ".py",
   "mimetype": "text/x-python",
   "name": "python",
   "nbconvert_exporter": "python",
   "pygments_lexer": "ipython2",
   "version": "2.7.6"
  }
 },
 "nbformat": 4,
 "nbformat_minor": 5
}
